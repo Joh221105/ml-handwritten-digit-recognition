{
 "cells": [
  {
   "cell_type": "code",
   "execution_count": 1,
   "id": "fcd231cb-abf0-4c17-8a6a-51e9cd9dd6ac",
   "metadata": {},
   "outputs": [],
   "source": [
    "import matplotlib.pyplot as plt\n",
    "import pandas as pd\n",
    "from joblib import load\n",
    "from PIL import Image\n",
    "import numpy as np"
   ]
  },
  {
   "cell_type": "markdown",
   "id": "12e010b1-3a0e-46e3-adb9-41400f053b7d",
   "metadata": {},
   "source": [
    "<!-- ## Loading Trained Model -->"
   ]
  },
  {
   "cell_type": "code",
   "execution_count": 2,
   "id": "dec692e7-6a02-45d2-a260-35bd049b5ca2",
   "metadata": {},
   "outputs": [],
   "source": [
    "neigh = load('trained_knn_model.joblib')"
   ]
  },
  {
   "cell_type": "markdown",
   "id": "7c2c8284-ea13-407a-9de1-a1930286e629",
   "metadata": {},
   "source": [
    "## SAMPLE IMAGE INPUT AND PREDICTION"
   ]
  },
  {
   "cell_type": "code",
   "execution_count": 3,
   "id": "66d80999-4a24-4927-9dc6-f6db94f0035b",
   "metadata": {},
   "outputs": [
    {
     "name": "stdin",
     "output_type": "stream",
     "text": [
      "Enter a number (0-9):  2\n"
     ]
    }
   ],
   "source": [
    "# <-------------------------------------CLICK ON ME!!!! ------------------------------------------->\n",
    "\n",
    "# Get user input for the number (0 to 9)\n",
    "number = input(\"Enter a number (0-9): \")\n",
    "\n",
    "# Opening the file based on input\n",
    "file_name = f\"{number}.png\"\n",
    "uploaded_image = Image.open(file_name)\n",
    "\n",
    "# Resize and convert to grayscale\n",
    "resized_image = uploaded_image.resize((28, 28)).convert('L')\n",
    "    \n",
    "# Convert to numpy array and flatten image\n",
    "image_array = np.array(resized_image)\n",
    "image_flattened = image_array.flatten()"
   ]
  },
  {
   "cell_type": "code",
   "execution_count": 4,
   "id": "aad2ad1c-3d19-41e9-b98f-b627610e82bc",
   "metadata": {},
   "outputs": [
    {
     "name": "stdout",
     "output_type": "stream",
     "text": [
      "The number in the image is: [2]\n"
     ]
    }
   ],
   "source": [
    "# MAKE A SAMPLE PREDICTION!!!\n",
    "prediction = neigh.predict([image_flattened]) \n",
    "print(\"The number in the image is:\", prediction)"
   ]
  },
  {
   "cell_type": "markdown",
   "id": "95439c71-d177-444a-b989-2561d4a5b246",
   "metadata": {},
   "source": [
    "##"
   ]
  },
  {
   "cell_type": "markdown",
   "id": "cad81cd4-0e52-4780-b0ab-27d62a713aaf",
   "metadata": {},
   "source": [
    "## USER UPLOADED INPUT AND PREDICTION"
   ]
  },
  {
   "cell_type": "code",
   "execution_count": 5,
   "id": "1b6a73a0-2c38-457a-a49e-7ed2bf53081c",
   "metadata": {},
   "outputs": [
    {
     "name": "stdout",
     "output_type": "stream",
     "text": [
      "The number in the image is: [3]\n"
     ]
    }
   ],
   "source": [
    "uploaded_image = Image.open(\"example.png\")\n",
    "\n",
    "resized_image = uploaded_image.resize((28, 28)).convert('L')\n",
    "    \n",
    "image_array = np.array(resized_image)\n",
    "image_flattened = image_array.flatten()\n",
    "\n",
    "prediction = neigh.predict([image_flattened]) \n",
    "print(\"The number in the image is:\", prediction)"
   ]
  },
  {
   "cell_type": "code",
   "execution_count": null,
   "id": "86e2829d-2c24-4ac3-84e4-438ee186d775",
   "metadata": {},
   "outputs": [],
   "source": []
  }
 ],
 "metadata": {
  "kernelspec": {
   "display_name": "Python 3 (ipykernel)",
   "language": "python",
   "name": "python3"
  },
  "language_info": {
   "codemirror_mode": {
    "name": "ipython",
    "version": 3
   },
   "file_extension": ".py",
   "mimetype": "text/x-python",
   "name": "python",
   "nbconvert_exporter": "python",
   "pygments_lexer": "ipython3",
   "version": "3.12.3"
  }
 },
 "nbformat": 4,
 "nbformat_minor": 5
}
